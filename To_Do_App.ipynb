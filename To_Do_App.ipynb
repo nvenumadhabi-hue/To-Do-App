{
  "nbformat": 4,
  "nbformat_minor": 0,
  "metadata": {
    "colab": {
      "provenance": []
    },
    "kernelspec": {
      "name": "python3",
      "display_name": "Python 3"
    },
    "language_info": {
      "name": "python"
    }
  },
  "cells": [
    {
      "cell_type": "code",
      "source": [
        "from IPython.display import display, HTML\n",
        "from google.colab import output\n",
        "import json\n",
        "\n",
        "# In-memory storage\n",
        "tasks = []\n",
        "\n",
        "# Backend logic\n",
        "def add_task(task):\n",
        "    tasks.append(task)\n",
        "    return {\"message\": \"Task added\"}\n",
        "\n",
        "# Register callback so JS can call Python\n",
        "def _add_task_py(task):\n",
        "    add_task(task)\n",
        "\n",
        "output.register_callback('notebook.add_task', _add_task_py)\n",
        "\n",
        "# Frontend HTML + JS\n",
        "frontend_code = \"\"\"\n",
        "<!DOCTYPE html>\n",
        "<html>\n",
        "<head>\n",
        "  <title>To-Do App (Colab)</title>\n",
        "  <style>\n",
        "    body { font-family: Arial; margin: 20px; }\n",
        "    input[type=text] { padding: 10px; width: 300px; }\n",
        "    button { padding: 10px; }\n",
        "    ul { padding: 0; list-style: none; }\n",
        "    li { padding: 5px 0; }\n",
        "  </style>\n",
        "</head>\n",
        "<body>\n",
        "  <h2>📝 To-Do App (Colab)</h2>\n",
        "  <input id=\"taskInput\" type=\"text\" placeholder=\"Enter a task\" />\n",
        "  <button onclick=\"addTask()\">Add</button>\n",
        "  <ul id=\"taskList\"></ul>\n",
        "\n",
        "<script>\n",
        "  const tasks = [];\n",
        "\n",
        "  function renderTasks() {\n",
        "    const list = document.getElementById('taskList');\n",
        "    list.innerHTML = '';\n",
        "    tasks.forEach((t, i) => {\n",
        "      list.innerHTML += `<li>${i + 1}. ${t}</li>`;\n",
        "    });\n",
        "  }\n",
        "\n",
        "  function addTask() {\n",
        "    const input = document.getElementById('taskInput');\n",
        "    const task = input.value.trim();\n",
        "    if (!task) return;\n",
        "    tasks.push(task);\n",
        "    input.value = '';\n",
        "    renderTasks();\n",
        "    google.colab.kernel.invokeFunction('notebook.add_task', [task], {});\n",
        "  }\n",
        "\n",
        "  renderTasks();\n",
        "</script>\n",
        "</body>\n",
        "</html>\n",
        "\"\"\"\n",
        "\n",
        "# Display the frontend in output cell\n",
        "display(HTML(frontend_code))\n"
      ],
      "metadata": {
        "colab": {
          "base_uri": "https://localhost:8080/",
          "height": 198
        },
        "id": "7KnEE9ku6dNK",
        "outputId": "6d27cc91-f655-4435-9dfd-954c4646f412"
      },
      "execution_count": 4,
      "outputs": [
        {
          "output_type": "display_data",
          "data": {
            "text/plain": [
              "<IPython.core.display.HTML object>"
            ],
            "text/html": [
              "\n",
              "<!DOCTYPE html>\n",
              "<html>\n",
              "<head>\n",
              "  <title>To-Do App (Colab)</title>\n",
              "  <style>\n",
              "    body { font-family: Arial; margin: 20px; }\n",
              "    input[type=text] { padding: 10px; width: 300px; }\n",
              "    button { padding: 10px; }\n",
              "    ul { padding: 0; list-style: none; }\n",
              "    li { padding: 5px 0; }\n",
              "  </style>\n",
              "</head>\n",
              "<body>\n",
              "  <h2>📝 To-Do App (Colab)</h2>\n",
              "  <input id=\"taskInput\" type=\"text\" placeholder=\"Enter a task\" />\n",
              "  <button onclick=\"addTask()\">Add</button>\n",
              "  <ul id=\"taskList\"></ul>\n",
              "\n",
              "<script>\n",
              "  const tasks = [];\n",
              "\n",
              "  function renderTasks() {\n",
              "    const list = document.getElementById('taskList');\n",
              "    list.innerHTML = '';\n",
              "    tasks.forEach((t, i) => {\n",
              "      list.innerHTML += `<li>${i + 1}. ${t}</li>`;\n",
              "    });\n",
              "  }\n",
              "\n",
              "  function addTask() {\n",
              "    const input = document.getElementById('taskInput');\n",
              "    const task = input.value.trim();\n",
              "    if (!task) return;\n",
              "    tasks.push(task);\n",
              "    input.value = '';\n",
              "    renderTasks();\n",
              "    google.colab.kernel.invokeFunction('notebook.add_task', [task], {});\n",
              "  }\n",
              "\n",
              "  renderTasks();\n",
              "</script>\n",
              "</body>\n",
              "</html>\n"
            ]
          },
          "metadata": {}
        }
      ]
    }
  ]
}